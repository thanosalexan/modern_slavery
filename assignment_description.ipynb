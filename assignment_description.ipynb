{
 "cells": [
  {
   "cell_type": "markdown",
   "id": "2f04f76f",
   "metadata": {},
   "source": [
    "# Exploring the Drivers of Modern Slavery\n",
    "\n",
    "Even though slavery is illegal, forty million people are estimated to live under some form of modern slavery across the globe. These forms of modern slavery include a wide variety of practices such as forced labour, debt bondage, forced marriage, sexual exploitation, bonded labour, and human trafficking.\n",
    "\n",
    "Researchers have been trying to estimate the prevalence of modern slavery, as well as factors that can help with this prediction. Machine Learning techniques can help in this endeavour, as has been shown in the following publication:\n",
    "\n",
    "* Lavelle-Hill, R., Smith, G., Mazumder, A. et al. Machine learning methods for \"wicked\" problems: exploring the complex drivers of modern slavery. Humanities and Social Sciences Communications 8, 274 (2021). https://doi.org/10.1057/s41599-021-00938-z\n",
    "\n",
    "Read the paper and familiarize yourself with the methodology followed by the authors.\n",
    "\n",
    "---\n"
   ]
  },
  {
   "cell_type": "markdown",
   "id": "e4468779",
   "metadata": {},
   "source": [
    "## Questions"
   ]
  },
  {
   "cell_type": "markdown",
   "id": "d1ccbea3",
   "metadata": {},
   "source": [
    "### Q1: Data Preprocessing\n",
    "\n",
    "The original data contains a single dependent variable, country level slavery prevalence estimates, converted to a percentage of the population. This included prevalence estimates for 48 unique countries over 2016 and 2018. As you will find out by reading the paper, the data had missing values, which the researchers proceeded to fill using assumptions and imputation methods.\n",
    "\n",
    "You will start with the [unimputed data](training.csv) and will fill in the missing values using the assumptions taken by the researchers. Regarding imputation, you will use the imputation methods afforded by scikit-learn."
   ]
  },
  {
   "cell_type": "markdown",
   "id": "5952a525",
   "metadata": {},
   "source": [
    "### Q2: Slavery Estimation Using All Features\n",
    "\n",
    "You will train three models using the imputed data to predict slavery prevalence:\n",
    "\n",
    "* A linear regression model.\n",
    "\n",
    "* A decision tree.\n",
    "\n",
    "* A random forest (any variant).\n",
    "\n",
    "You will notice that the slavery indicator may refer to 2016 or 2018, which means that you must train your model on data up to 2016 to predict slavery prevalence for 2016 and on data between 2016 and 2019 to predict slavery prevalence for 2018 (we assume that 2019 data apply to 2018).\n",
    "\n",
    "You will evaluate your model using the [Out of Sample data](oos_data.csv). You will use the Mean Average Error (MAE) as the evaluation metric.\n",
    "\n",
    "Concerning linear regression, you can also use ridge regression and lasso regression. Comment on the importance of various features on predicting slavery prevalence."
   ]
  },
  {
   "cell_type": "markdown",
   "id": "c39dedbb",
   "metadata": {},
   "source": [
    "### Q3: Slavery Estimation with Theory-based Features\n",
    "\n",
    "Apart from the full features set, the researchers used the same models as in Q2 using a subset of 35 features. Train your models using the subset and then evaluate again using the [Out of Sample data](oos_data.csv) (in the reduced features set). Comment on the importance of various features on predicting slavery prevalence."
   ]
  },
  {
   "cell_type": "markdown",
   "id": "81f44fc3",
   "metadata": {},
   "source": [
    "### Q4: Slavery Estimation with PCA-derived Features\n",
    "\n",
    "You will use Principal Component Analysis (PCA) in order to reduce the full set of features to six features. Try to interpret the six derived features. Then, train and evaluate your models on the PCA-derived features. Comment on the importance of each feature on predicting slavery prevalence."
   ]
  }
 ],
 "metadata": {
  "kernelspec": {
   "display_name": "Python 3 (ipykernel)",
   "language": "python",
   "name": "python3"
  },
  "language_info": {
   "codemirror_mode": {
    "name": "ipython",
    "version": 3
   },
   "file_extension": ".py",
   "mimetype": "text/x-python",
   "name": "python",
   "nbconvert_exporter": "python",
   "pygments_lexer": "ipython3",
   "version": "3.9.7"
  }
 },
 "nbformat": 4,
 "nbformat_minor": 5
}
